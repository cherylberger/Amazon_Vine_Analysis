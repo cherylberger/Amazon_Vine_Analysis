{
  "nbformat": 4,
  "nbformat_minor": 0,
  "metadata": {
    "colab": {
      "name": "Vine_Review_Analysis.ipynb",
      "provenance": [],
      "collapsed_sections": [],
      "authorship_tag": "ABX9TyMYQBwyc/+r8CFfMBGuSHfP",
      "include_colab_link": true
    },
    "kernelspec": {
      "name": "python3",
      "display_name": "Python 3"
    },
    "language_info": {
      "name": "python"
    }
  },
  "cells": [
    {
      "cell_type": "markdown",
      "metadata": {
        "id": "view-in-github",
        "colab_type": "text"
      },
      "source": [
        "<a href=\"https://colab.research.google.com/github/cherylberger/Amazon_Vine_Analysis/blob/main/Vine_Review_Analysis.ipynb\" target=\"_parent\"><img src=\"https://colab.research.google.com/assets/colab-badge.svg\" alt=\"Open In Colab\"/></a>"
      ]
    },
    {
      "cell_type": "code",
      "execution_count": null,
      "metadata": {
        "id": "HGgWGFe9xBHN"
      },
      "outputs": [],
      "source": [
        ""
      ]
    },
    {
      "cell_type": "code",
      "metadata": {
        "id": "V58rxea0HqSa",
        "colab": {
          "base_uri": "https://localhost:8080/"
        },
        "outputId": "fb22df19-adca-43e8-e02f-4c184b3a7061"
      },
      "source": [
        "import os\n",
        "# Find the latest version of spark 3.0 from http://www.apache.org/dist/spark/ and enter as the spark version\n",
        "# For example:\n",
        "# spark_version = 'spark-3.0.3'\n",
        "spark_version = 'spark-3.0.3'\n",
        "os.environ['SPARK_VERSION']=spark_version\n",
        "\n",
        "# Install Spark and Java\n",
        "!apt-get update\n",
        "!apt-get install openjdk-11-jdk-headless -qq > /dev/null\n",
        "!wget -q http://www.apache.org/dist/spark/$SPARK_VERSION/$SPARK_VERSION-bin-hadoop2.7.tgz\n",
        "!tar xf $SPARK_VERSION-bin-hadoop2.7.tgz\n",
        "!pip install -q findspark\n",
        "\n",
        "# Set Environment Variables\n",
        "import os\n",
        "os.environ[\"JAVA_HOME\"] = \"/usr/lib/jvm/java-11-openjdk-amd64\"\n",
        "os.environ[\"SPARK_HOME\"] = f\"/content/{'spark-3.0.3'}-bin-hadoop2.7\"\n",
        "\n",
        "# Start a SparkSession\n",
        "import findspark\n",
        "findspark.init()"
      ],
      "execution_count": null,
      "outputs": [
        {
          "output_type": "stream",
          "name": "stdout",
          "text": [
            "\r0% [Working]\r            \rIgn:1 https://developer.download.nvidia.com/compute/cuda/repos/ubuntu1804/x86_64  InRelease\n",
            "\r0% [Connecting to archive.ubuntu.com (91.189.91.39)] [Connecting to security.ub\r                                                                               \rIgn:2 https://developer.download.nvidia.com/compute/machine-learning/repos/ubuntu1804/x86_64  InRelease\n",
            "\r0% [Connecting to archive.ubuntu.com (91.189.91.39)] [Waiting for headers] [Wai\r                                                                               \rGet:3 https://developer.download.nvidia.com/compute/cuda/repos/ubuntu1804/x86_64  Release [696 B]\n",
            "\r0% [Waiting for headers] [Waiting for headers] [Waiting for headers] [Connectin\r                                                                               \rGet:4 https://cloud.r-project.org/bin/linux/ubuntu bionic-cran40/ InRelease [3,626 B]\n",
            "\r0% [Waiting for headers] [Waiting for headers] [4 InRelease 0 B/3,626 B 0%] [Co\r0% [Waiting for headers] [Waiting for headers] [Connecting to ppa.launchpad.net\r                                                                               \rHit:5 https://developer.download.nvidia.com/compute/machine-learning/repos/ubuntu1804/x86_64  Release\n",
            "\r0% [Waiting for headers] [Waiting for headers] [Connecting to ppa.launchpad.net\r0% [4 InRelease gpgv 3,626 B] [Waiting for headers] [Waiting for headers] [Conn\r                                                                               \rGet:6 https://developer.download.nvidia.com/compute/cuda/repos/ubuntu1804/x86_64  Release.gpg [836 B]\n",
            "\r0% [4 InRelease gpgv 3,626 B] [Waiting for headers] [Waiting for headers] [Conn\r                                                                               \rGet:7 http://security.ubuntu.com/ubuntu bionic-security InRelease [88.7 kB]\n",
            "Hit:8 http://archive.ubuntu.com/ubuntu bionic InRelease\n",
            "Get:9 http://archive.ubuntu.com/ubuntu bionic-updates InRelease [88.7 kB]\n",
            "Get:10 http://ppa.launchpad.net/c2d4u.team/c2d4u4.0+/ubuntu bionic InRelease [15.9 kB]\n",
            "Get:11 https://cloud.r-project.org/bin/linux/ubuntu bionic-cran40/ Packages [80.4 kB]\n",
            "Get:12 http://archive.ubuntu.com/ubuntu bionic-backports InRelease [74.6 kB]\n",
            "Hit:14 http://ppa.launchpad.net/cran/libgit2/ubuntu bionic InRelease\n",
            "Get:15 https://developer.download.nvidia.com/compute/cuda/repos/ubuntu1804/x86_64  Packages [932 kB]\n",
            "Get:16 http://ppa.launchpad.net/deadsnakes/ppa/ubuntu bionic InRelease [15.9 kB]\n",
            "Get:17 http://security.ubuntu.com/ubuntu bionic-security/universe amd64 Packages [1,479 kB]\n",
            "Hit:18 http://ppa.launchpad.net/graphics-drivers/ppa/ubuntu bionic InRelease\n",
            "Get:19 http://security.ubuntu.com/ubuntu bionic-security/main amd64 Packages [2,628 kB]\n",
            "Get:20 http://ppa.launchpad.net/c2d4u.team/c2d4u4.0+/ubuntu bionic/main Sources [1,827 kB]\n",
            "Get:21 http://archive.ubuntu.com/ubuntu bionic-updates/main amd64 Packages [3,067 kB]\n",
            "Get:22 http://archive.ubuntu.com/ubuntu bionic-updates/universe amd64 Packages [2,257 kB]\n",
            "Get:23 http://ppa.launchpad.net/c2d4u.team/c2d4u4.0+/ubuntu bionic/main amd64 Packages [936 kB]\n",
            "Get:24 http://ppa.launchpad.net/deadsnakes/ppa/ubuntu bionic/main amd64 Packages [45.2 kB]\n",
            "Fetched 13.5 MB in 4s (3,115 kB/s)\n",
            "Reading package lists... Done\n"
          ]
        }
      ]
    },
    {
      "cell_type": "code",
      "metadata": {
        "id": "_xKwTpATHqSe",
        "colab": {
          "base_uri": "https://localhost:8080/"
        },
        "outputId": "66714116-aafc-4092-e974-77a07121a80b"
      },
      "source": [
        "# Download the Postgres driver that will allow Spark to interact with Postgres.\n",
        "!wget https://jdbc.postgresql.org/download/postgresql-42.2.16.jar"
      ],
      "execution_count": null,
      "outputs": [
        {
          "output_type": "stream",
          "name": "stdout",
          "text": [
            "--2022-03-20 00:52:53--  https://jdbc.postgresql.org/download/postgresql-42.2.16.jar\n",
            "Resolving jdbc.postgresql.org (jdbc.postgresql.org)... 72.32.157.228, 2001:4800:3e1:1::228\n",
            "Connecting to jdbc.postgresql.org (jdbc.postgresql.org)|72.32.157.228|:443... connected.\n",
            "HTTP request sent, awaiting response... 200 OK\n",
            "Length: 1002883 (979K) [application/java-archive]\n",
            "Saving to: ‘postgresql-42.2.16.jar’\n",
            "\n",
            "postgresql-42.2.16. 100%[===================>] 979.38K  5.96MB/s    in 0.2s    \n",
            "\n",
            "2022-03-20 00:52:53 (5.96 MB/s) - ‘postgresql-42.2.16.jar’ saved [1002883/1002883]\n",
            "\n"
          ]
        }
      ]
    },
    {
      "cell_type": "code",
      "metadata": {
        "id": "MMqDAjVS0KN9"
      },
      "source": [
        "from pyspark.sql import SparkSession\n",
        "spark = SparkSession.builder.appName(\"M16-Amazon-Challenge\").config(\"spark.driver.extraClassPath\",\"/content/postgresql-42.2.16.jar\").getOrCreate()"
      ],
      "execution_count": null,
      "outputs": []
    },
    {
      "cell_type": "markdown",
      "metadata": {
        "id": "cyBsySGuY-9V"
      },
      "source": [
        "### Load Amazon Data into Spark DataFrame"
      ]
    },
    {
      "cell_type": "code",
      "metadata": {
        "id": "CtCmBhQJY-9Z",
        "colab": {
          "base_uri": "https://localhost:8080/"
        },
        "outputId": "da544e5b-4a92-40cc-ade4-9d771cc86e4d"
      },
      "source": [
        "from pyspark import SparkFiles\n",
        "url = \"https://s3.amazonaws.com/amazon-reviews-pds/tsv/amazon_reviews_us_Shoes_v1_00.tsv.gz\"\n",
        "spark.sparkContext.addFile(url)\n",
        "df = spark.read.option(\"encoding\", \"UTF-8\").csv(SparkFiles.get(\"\"), sep=\"\\t\", header=True, inferSchema=True)\n",
        "df.show()"
      ],
      "execution_count": null,
      "outputs": [
        {
          "output_type": "stream",
          "name": "stdout",
          "text": [
            "+-----------+-----------+--------------+----------+--------------+--------------------+----------------+-----------+-------------+-----------+----+-----------------+--------------------+--------------------+-----------+\n",
            "|marketplace|customer_id|     review_id|product_id|product_parent|       product_title|product_category|star_rating|helpful_votes|total_votes|vine|verified_purchase|     review_headline|         review_body|review_date|\n",
            "+-----------+-----------+--------------+----------+--------------+--------------------+----------------+-----------+-------------+-----------+----+-----------------+--------------------+--------------------+-----------+\n",
            "|         US|   18069663|R3P2HIOQCIN5ZU|B000XB31C0|     265024781|Minnetonka Men's ...|           Shoes|          1|            0|          0|   N|                Y|                   .|Do not buy: reall...| 2015-08-31|\n",
            "|         US|   16251825|R12VVR0WH5Q24V|B00CFYZH5W|     259035853|Teva Men's Pajaro...|           Shoes|          5|            0|          0|   N|                Y|     super flip flop|provides great cu...| 2015-08-31|\n",
            "|         US|   20381037| RNCCKB6TV5EEF|B00S8JNN3Q|     666066660|Anne Klein Perfec...|           Shoes|          4|            0|          0|   N|                Y| Great clutch purse!|It's perfect if y...| 2015-08-31|\n",
            "|         US|     108364|R2NZXYIVCGB13W|B00XFBPOQG|     448483263|adidas Men's 10K ...|           Shoes|          5|            0|          6|   N|                Y|              Badass|  Getting what u see| 2015-08-31|\n",
            "|         US|   45449350|R2EQ1TG9IT3OEQ|B00SW64Y9W|       7853171|OverBling Sneaker...|           Shoes|          3|            0|          0|   N|                Y|         Three Stars|               small| 2015-08-31|\n",
            "|         US|   19324665|R1WXA9JSC2H1U1|B011F9E6LI|      14311457|MESSI 15.3 FG/AG ...|           Shoes|          5|            1|          1|   N|                Y|          Five Stars|My 13 year old so...| 2015-08-31|\n",
            "|         US|   50073594|R12ENYLFGGNWRV|B00HAUP1OI|     264821602|Hoka One One Men'...|           Shoes|          5|            1|          1|   N|                Y|Finally, some cus...|Ok, I have been s...| 2015-08-31|\n",
            "|         US|   21706057|R2R07E5PNXEUO5|B00L1RKOKW|     767118055|Olukai Nohea Mesh...|           Shoes|          4|            0|          0|   N|                Y|good deal, but ha...|I went a full siz...| 2015-08-31|\n",
            "|         US|   13708216|R27BA52AKWMWN3|B005WA9MSE|     813856438|Carolina Mens 6\" ...|           Shoes|          5|            0|          0|   N|                Y|... would have to...|I would have to s...| 2015-08-31|\n",
            "|         US|   40542649| RLF8DOID2KD5O|B00BEYQI5C|     661491213|Alegria Women's S...|           Shoes|          3|            0|          0|   N|                Y|           Too small|The size is misle...| 2015-08-31|\n",
            "|         US|   13409446|R369CEXHXHC6NQ|B00EYAFTCQ|     332158165|Naturalizer Women...|           Shoes|          5|            0|          0|   N|                Y|          Five Stars|These shoes are v...| 2015-08-31|\n",
            "|         US|    9451727|R171PPIJXFONVI|B00I0QHY32|      49243908|Forever Link Wome...|           Shoes|          5|            0|          0|   N|                Y|          Five Stars|I love these sand...| 2015-08-31|\n",
            "|         US|     193731|R2JDNM8F2P06FU|B010FZZKYA|     161497902|Versace Collectio...|           Shoes|          4|            1|          1|   N|                Y|          Four Stars|Good quality shoe...| 2015-08-31|\n",
            "|         US|   34798634|R2W977FO4M97XT|B00V8B30K2|     759958795|Twisted Girl's Ch...|           Shoes|          5|            0|          1|   N|                Y|Good shoes, comfo...|My daughter reall...| 2015-08-31|\n",
            "|         US|   37235551|R3AM24QPLI28UY|B00LAVB1TC|     910150896|Travel Smart Hand...|           Shoes|          2|            1|          2|   N|                Y|           Two Stars|         It's okay .| 2015-08-31|\n",
            "|         US|   27081399| REDVXSFYVNT5T|B003C1P8B0|     762792587|Saucony Originals...|           Shoes|          5|            0|          0|   N|                Y|    Love these shoes|Love these shoes!...| 2015-08-31|\n",
            "|         US|     120678|R14AIIK7D6ENDZ|B000W3UL7W|     123724495|Dr. Marten's Wome...|           Shoes|          5|            0|          0|   N|                Y|          Five Stars|                Good| 2015-08-31|\n",
            "|         US|   22272389|R3B1NURKMCVAL1|B00LX65PQO|     848850234|Skechers Performa...|           Shoes|          3|            2|          2|   N|                Y|         Three Stars|I like the go wal...| 2015-08-31|\n",
            "|         US|   19584241|R14Q1GZGV10IMX|B00BEE7N3I|     211637196|Hi-Tec Kid's Nepa...|           Shoes|          4|            0|          0|   N|                Y|          Four Stars|Kids love them fo...| 2015-08-31|\n",
            "|         US|   12334573| R9BHBB06QD6TM|B008NCHMBW|     138572112|Foot Sox Original...|           Shoes|          1|            2|          2|   N|                Y|Tissue paper is t...|Tissue paper is t...| 2015-08-31|\n",
            "+-----------+-----------+--------------+----------+--------------+--------------------+----------------+-----------+-------------+-----------+----+-----------------+--------------------+--------------------+-----------+\n",
            "only showing top 20 rows\n",
            "\n"
          ]
        }
      ]
    },
    {
      "cell_type": "markdown",
      "metadata": {
        "id": "2yUSe55VY-9t"
      },
      "source": [
        "### Create DataFrames to match tables"
      ]
    },
    {
      "cell_type": "code",
      "metadata": {
        "id": "C8REmY1aY-9u"
      },
      "source": [
        "from pyspark.sql.functions import to_date\n",
        "# Read in the Review dataset as a DataFrame\n"
      ],
      "execution_count": null,
      "outputs": []
    },
    {
      "cell_type": "code",
      "metadata": {
        "id": "B0TESUDRY-90",
        "colab": {
          "base_uri": "https://localhost:8080/"
        },
        "outputId": "4e43436b-783c-4433-8a22-4cc402dc03ee"
      },
      "source": [
        "# Create the vine_review_table DataFrame\n",
        "filtered_vine_df = df.select([\"review_id\", \"star_rating\", \"helpful_votes\", \"total_votes\",\"vine\", \"verified_purchase\"])\n",
        "filtered_vine_df.show()"
      ],
      "execution_count": null,
      "outputs": [
        {
          "output_type": "stream",
          "name": "stdout",
          "text": [
            "+--------------+-----------+-------------+-----------+----+-----------------+\n",
            "|     review_id|star_rating|helpful_votes|total_votes|vine|verified_purchase|\n",
            "+--------------+-----------+-------------+-----------+----+-----------------+\n",
            "|R3P2HIOQCIN5ZU|          1|            0|          0|   N|                Y|\n",
            "|R12VVR0WH5Q24V|          5|            0|          0|   N|                Y|\n",
            "| RNCCKB6TV5EEF|          4|            0|          0|   N|                Y|\n",
            "|R2NZXYIVCGB13W|          5|            0|          6|   N|                Y|\n",
            "|R2EQ1TG9IT3OEQ|          3|            0|          0|   N|                Y|\n",
            "|R1WXA9JSC2H1U1|          5|            1|          1|   N|                Y|\n",
            "|R12ENYLFGGNWRV|          5|            1|          1|   N|                Y|\n",
            "|R2R07E5PNXEUO5|          4|            0|          0|   N|                Y|\n",
            "|R27BA52AKWMWN3|          5|            0|          0|   N|                Y|\n",
            "| RLF8DOID2KD5O|          3|            0|          0|   N|                Y|\n",
            "|R369CEXHXHC6NQ|          5|            0|          0|   N|                Y|\n",
            "|R171PPIJXFONVI|          5|            0|          0|   N|                Y|\n",
            "|R2JDNM8F2P06FU|          4|            1|          1|   N|                Y|\n",
            "|R2W977FO4M97XT|          5|            0|          1|   N|                Y|\n",
            "|R3AM24QPLI28UY|          2|            1|          2|   N|                Y|\n",
            "| REDVXSFYVNT5T|          5|            0|          0|   N|                Y|\n",
            "|R14AIIK7D6ENDZ|          5|            0|          0|   N|                Y|\n",
            "|R3B1NURKMCVAL1|          3|            2|          2|   N|                Y|\n",
            "|R14Q1GZGV10IMX|          4|            0|          0|   N|                Y|\n",
            "| R9BHBB06QD6TM|          1|            2|          2|   N|                Y|\n",
            "+--------------+-----------+-------------+-----------+----+-----------------+\n",
            "only showing top 20 rows\n",
            "\n"
          ]
        }
      ]
    },
    {
      "cell_type": "code",
      "metadata": {
        "id": "MkqyCuNQY-9-",
        "colab": {
          "base_uri": "https://localhost:8080/"
        },
        "outputId": "33f00e5c-1a06-4275-8214-662f1df964d8"
      },
      "source": [
        "# Filter the data and create a new DataFrame to retrieve all the rows where the total_vote count is equal to or greater than 20\n",
        "top_20_vote_count_df = filtered_vine_df.filter(filtered_vine_df[\"total_votes\"]>=20)\n",
        "top_20_vote_count_df.show(100)"
      ],
      "execution_count": null,
      "outputs": [
        {
          "output_type": "stream",
          "name": "stdout",
          "text": [
            "+--------------+-----------+-------------+-----------+----+-----------------+\n",
            "|     review_id|star_rating|helpful_votes|total_votes|vine|verified_purchase|\n",
            "+--------------+-----------+-------------+-----------+----+-----------------+\n",
            "|R37F42INKX7L9K|          5|           45|         49|   N|                Y|\n",
            "|R2EHKYNEP8WVSR|          5|           25|         25|   N|                Y|\n",
            "| RXOS7BHID0UHL|          5|           16|         27|   N|                N|\n",
            "|R33HHGFPB403GM|          5|           19|         21|   N|                Y|\n",
            "| RY9O9XNLP464N|          2|           19|         22|   N|                Y|\n",
            "|R2VP11C28JAEZF|          5|           30|         30|   N|                Y|\n",
            "|R1TXGR1HA2M3P3|          5|           28|         29|   N|                Y|\n",
            "| R6OD85TMEMHQQ|          5|           28|         28|   N|                Y|\n",
            "|R1G4PAJXP3FTN7|          2|           43|         51|   N|                Y|\n",
            "|R2P2S8UGUMCOLX|          5|           21|         22|   N|                Y|\n",
            "| RBTQKXGJ9RP7C|          1|           33|         33|   N|                Y|\n",
            "|R342L93CXGDZO5|          2|           73|         76|   N|                Y|\n",
            "|R31Z97KFD4HMNF|          3|           23|         26|   N|                Y|\n",
            "|R2NDB7EQLYK87A|          5|           44|         46|   N|                Y|\n",
            "|R1C0W0OSBCVXC2|          1|           45|         46|   N|                Y|\n",
            "|R154Q41ID7FTFC|          5|           24|         26|   N|                Y|\n",
            "|R3GFX9ZNZ0T3TA|          1|           35|         35|   N|                Y|\n",
            "|R2H8MH0N2IZKMY|          5|           22|         23|   N|                Y|\n",
            "|R1MYE8WQ3812L8|          5|           17|         20|   N|                Y|\n",
            "| RYSL8MU2858GB|          5|           71|         73|   N|                Y|\n",
            "|R2AA1L5ELMHC99|          3|          156|        159|   N|                Y|\n",
            "|R1NAX488QFLAMK|          4|           26|         27|   N|                Y|\n",
            "|R1LKHB01N26RHL|          4|           27|         30|   N|                Y|\n",
            "|R15ANY3PXYBDIG|          5|           22|         23|   N|                N|\n",
            "|R1SFMA1XAAUIVG|          5|           37|         38|   N|                Y|\n",
            "| RQN5511LDI736|          5|           53|         59|   N|                Y|\n",
            "|R24CNRZ8PBOV6R|          5|           41|         45|   N|                Y|\n",
            "|R3SCQZGVCXXA8V|          5|           68|         75|   N|                Y|\n",
            "|R10JQ538S0XCEU|          5|           59|         67|   N|                Y|\n",
            "|R1SSAYFE7GM22N|          3|           20|         21|   N|                Y|\n",
            "|R27HGME2K59VZ5|          1|           29|         31|   N|                Y|\n",
            "|R3ES7IGV9K151G|          5|           25|         26|   N|                Y|\n",
            "|R393YEJM2GY78F|          5|           22|         22|   N|                Y|\n",
            "|R3KSD21XF2ZAGF|          2|           38|         42|   N|                Y|\n",
            "| R9V33TO6BX0US|          1|           24|         26|   N|                Y|\n",
            "|R1LR2KEUC6ISDP|          4|           20|         22|   N|                Y|\n",
            "| RTB28YRHGE7NW|          5|           25|         25|   N|                Y|\n",
            "|R3O5IYUU3ZUJHG|          3|           18|         21|   N|                Y|\n",
            "| RTDIQ4TBLNLW0|          1|           25|         26|   N|                Y|\n",
            "|R2FGZ1QP17EQY2|          2|            8|         20|   N|                Y|\n",
            "|R26M368N4R90HD|          5|           25|         26|   N|                Y|\n",
            "| ROA0K86IHBBQS|          5|           19|         22|   N|                N|\n",
            "|R1W1NW23BCX7QK|          5|           30|         32|   N|                Y|\n",
            "|R1OBDT3WHQ2IF7|          5|           30|         33|   N|                Y|\n",
            "|R2VWJIVGCTMULX|          4|           28|         28|   N|                Y|\n",
            "|R29XISG7JFRTTQ|          5|           33|         37|   N|                Y|\n",
            "| R8P5KR7A07WAZ|          5|           46|         47|   N|                Y|\n",
            "| R1K9Y5159IQIW|          1|           39|         43|   N|                Y|\n",
            "|R34N9QKGXELEKW|          5|           30|         32|   N|                Y|\n",
            "|R2LY2PZBLGURHR|          2|           64|         64|   N|                Y|\n",
            "|R20MMBB0JQ6UX9|          5|           22|         22|   N|                Y|\n",
            "| RUO2TVZ2VQKL6|          5|           14|         35|   N|                Y|\n",
            "|R1XNTAFS6VWTA9|          5|           15|         25|   N|                N|\n",
            "| RM068G76CW9PY|          1|           21|         21|   N|                Y|\n",
            "| ROVZUURY61KEM|          3|           20|         22|   N|                Y|\n",
            "| R1YV9QZ594KTO|          4|           35|         36|   N|                Y|\n",
            "| RSMY5JH0B27SS|          5|           35|         37|   N|                Y|\n",
            "|R1X7P9BIGBL8UM|          3|           27|         29|   N|                Y|\n",
            "|R1T9CO3FY8SF97|          5|           68|         69|   N|                N|\n",
            "|R1IYRC0QSYTU10|          4|           33|         33|   N|                Y|\n",
            "|R15XGJ5S6XZQOW|          4|           20|         20|   N|                Y|\n",
            "|R1638RNS2ZGMD2|          3|           22|         25|   N|                Y|\n",
            "|R12FQ3TERCVNXP|          1|           18|         20|   N|                Y|\n",
            "| REEHTDQZKAAIR|          1|          105|        113|   N|                Y|\n",
            "|R328D7QB3QJH0E|          3|           96|        102|   N|                Y|\n",
            "| RWUW2XM5Z5H9Y|          5|           18|         20|   N|                N|\n",
            "|R23W0TU0NXSC0K|          5|           24|         24|   N|                Y|\n",
            "| RDM3B1TRM6P67|          4|          115|        115|   N|                Y|\n",
            "|R1IGB7ANXN55U9|          4|           63|         68|   N|                N|\n",
            "|R1YP2N2REHAJA6|          5|           34|         34|   N|                Y|\n",
            "|R23P37CEZMFICT|          5|           24|         26|   N|                N|\n",
            "|R1OIALTH6AGP51|          5|          121|        121|   N|                Y|\n",
            "|R36D6AJTR06SET|          5|          107|        112|   N|                Y|\n",
            "|R3R3ESIAESU7BD|          2|           18|         20|   N|                Y|\n",
            "|R36KWO6FO5TJNS|          1|           15|         21|   N|                Y|\n",
            "|R2978K3AG1QJBA|          1|           20|         20|   N|                Y|\n",
            "|R3JYQAH2DWECPJ|          5|           22|         22|   N|                Y|\n",
            "|R2HZ9XP6ZT9456|          5|           22|         23|   N|                Y|\n",
            "|R2WIQKA8AALP5O|          1|           37|         45|   N|                N|\n",
            "|R3AZIF6U4TMRBD|          4|           23|         23|   N|                N|\n",
            "|R193268E8C39PF|          5|           23|         23|   N|                Y|\n",
            "| REGYKNLLG4Y3Q|          4|           21|         24|   N|                Y|\n",
            "|R3IDYWA19AA7AF|          5|           71|         73|   N|                Y|\n",
            "|R10C8ZU72LQFO6|          5|           32|         34|   N|                Y|\n",
            "|R1U30MG655WL50|          5|           43|         49|   N|                Y|\n",
            "|R39B9TQ9KEMYBP|          5|           19|         22|   N|                Y|\n",
            "| RZYEZXY0QZ6JP|          5|           20|         20|   N|                Y|\n",
            "|R3HU3CVFQBQBJX|          5|           37|         37|   N|                Y|\n",
            "|R2IBZ2WXTWAOD5|          1|           60|         63|   N|                Y|\n",
            "|R2VS3IPXOG1PT4|          4|           38|         38|   N|                Y|\n",
            "|R3VV5SUHNMAMHH|          5|           28|         28|   N|                Y|\n",
            "| RWRP8FOMCXNXV|          3|           49|         50|   N|                Y|\n",
            "|R320HZZSHFEMT5|          2|           22|         24|   N|                Y|\n",
            "|R3FAXO7JKW3G97|          2|           50|         53|   N|                Y|\n",
            "|R1J6ZR57XNB405|          4|           30|         32|   N|                Y|\n",
            "| RNBT4DQX0WHI8|          5|           62|         62|   N|                Y|\n",
            "| RFO47EUA8VO07|          1|          153|        165|   N|                Y|\n",
            "| RQGV5SMTRAXI3|          5|           27|         27|   N|                Y|\n",
            "|R2JZO2R4VVBZDW|          5|           49|         50|   N|                Y|\n",
            "|R2JWXZ4KU8L5P0|          1|           25|         25|   N|                Y|\n",
            "+--------------+-----------+-------------+-----------+----+-----------------+\n",
            "only showing top 100 rows\n",
            "\n"
          ]
        }
      ]
    },
    {
      "cell_type": "code",
      "metadata": {
        "id": "lzMmkdKmY--D",
        "colab": {
          "base_uri": "https://localhost:8080/"
        },
        "outputId": "ccdddd2d-3046-4279-a330-4a3e55f8ea5a"
      },
      "source": [
        "# Filter the new Dataframe to retrieve all the rows where the number of helpful votes divided by total_votes is equal to greater than 50%\n",
        "helpful_votes_df = top_20_vote_count_df.filter((top_20_vote_count_df[\"helpful_votes\"]/top_20_vote_count_df[\"total_votes\"])>=0.5)\n",
        "helpful_votes_df.show(100)"
      ],
      "execution_count": null,
      "outputs": [
        {
          "output_type": "stream",
          "name": "stdout",
          "text": [
            "+--------------+-----------+-------------+-----------+----+-----------------+\n",
            "|     review_id|star_rating|helpful_votes|total_votes|vine|verified_purchase|\n",
            "+--------------+-----------+-------------+-----------+----+-----------------+\n",
            "|R37F42INKX7L9K|          5|           45|         49|   N|                Y|\n",
            "|R2EHKYNEP8WVSR|          5|           25|         25|   N|                Y|\n",
            "| RXOS7BHID0UHL|          5|           16|         27|   N|                N|\n",
            "|R33HHGFPB403GM|          5|           19|         21|   N|                Y|\n",
            "| RY9O9XNLP464N|          2|           19|         22|   N|                Y|\n",
            "|R2VP11C28JAEZF|          5|           30|         30|   N|                Y|\n",
            "|R1TXGR1HA2M3P3|          5|           28|         29|   N|                Y|\n",
            "| R6OD85TMEMHQQ|          5|           28|         28|   N|                Y|\n",
            "|R1G4PAJXP3FTN7|          2|           43|         51|   N|                Y|\n",
            "|R2P2S8UGUMCOLX|          5|           21|         22|   N|                Y|\n",
            "| RBTQKXGJ9RP7C|          1|           33|         33|   N|                Y|\n",
            "|R342L93CXGDZO5|          2|           73|         76|   N|                Y|\n",
            "|R31Z97KFD4HMNF|          3|           23|         26|   N|                Y|\n",
            "|R2NDB7EQLYK87A|          5|           44|         46|   N|                Y|\n",
            "|R1C0W0OSBCVXC2|          1|           45|         46|   N|                Y|\n",
            "|R154Q41ID7FTFC|          5|           24|         26|   N|                Y|\n",
            "|R3GFX9ZNZ0T3TA|          1|           35|         35|   N|                Y|\n",
            "|R2H8MH0N2IZKMY|          5|           22|         23|   N|                Y|\n",
            "|R1MYE8WQ3812L8|          5|           17|         20|   N|                Y|\n",
            "| RYSL8MU2858GB|          5|           71|         73|   N|                Y|\n",
            "|R2AA1L5ELMHC99|          3|          156|        159|   N|                Y|\n",
            "|R1NAX488QFLAMK|          4|           26|         27|   N|                Y|\n",
            "|R1LKHB01N26RHL|          4|           27|         30|   N|                Y|\n",
            "|R15ANY3PXYBDIG|          5|           22|         23|   N|                N|\n",
            "|R1SFMA1XAAUIVG|          5|           37|         38|   N|                Y|\n",
            "| RQN5511LDI736|          5|           53|         59|   N|                Y|\n",
            "|R24CNRZ8PBOV6R|          5|           41|         45|   N|                Y|\n",
            "|R3SCQZGVCXXA8V|          5|           68|         75|   N|                Y|\n",
            "|R10JQ538S0XCEU|          5|           59|         67|   N|                Y|\n",
            "|R1SSAYFE7GM22N|          3|           20|         21|   N|                Y|\n",
            "|R27HGME2K59VZ5|          1|           29|         31|   N|                Y|\n",
            "|R3ES7IGV9K151G|          5|           25|         26|   N|                Y|\n",
            "|R393YEJM2GY78F|          5|           22|         22|   N|                Y|\n",
            "|R3KSD21XF2ZAGF|          2|           38|         42|   N|                Y|\n",
            "| R9V33TO6BX0US|          1|           24|         26|   N|                Y|\n",
            "|R1LR2KEUC6ISDP|          4|           20|         22|   N|                Y|\n",
            "| RTB28YRHGE7NW|          5|           25|         25|   N|                Y|\n",
            "|R3O5IYUU3ZUJHG|          3|           18|         21|   N|                Y|\n",
            "| RTDIQ4TBLNLW0|          1|           25|         26|   N|                Y|\n",
            "|R26M368N4R90HD|          5|           25|         26|   N|                Y|\n",
            "| ROA0K86IHBBQS|          5|           19|         22|   N|                N|\n",
            "|R1W1NW23BCX7QK|          5|           30|         32|   N|                Y|\n",
            "|R1OBDT3WHQ2IF7|          5|           30|         33|   N|                Y|\n",
            "|R2VWJIVGCTMULX|          4|           28|         28|   N|                Y|\n",
            "|R29XISG7JFRTTQ|          5|           33|         37|   N|                Y|\n",
            "| R8P5KR7A07WAZ|          5|           46|         47|   N|                Y|\n",
            "| R1K9Y5159IQIW|          1|           39|         43|   N|                Y|\n",
            "|R34N9QKGXELEKW|          5|           30|         32|   N|                Y|\n",
            "|R2LY2PZBLGURHR|          2|           64|         64|   N|                Y|\n",
            "|R20MMBB0JQ6UX9|          5|           22|         22|   N|                Y|\n",
            "|R1XNTAFS6VWTA9|          5|           15|         25|   N|                N|\n",
            "| RM068G76CW9PY|          1|           21|         21|   N|                Y|\n",
            "| ROVZUURY61KEM|          3|           20|         22|   N|                Y|\n",
            "| R1YV9QZ594KTO|          4|           35|         36|   N|                Y|\n",
            "| RSMY5JH0B27SS|          5|           35|         37|   N|                Y|\n",
            "|R1X7P9BIGBL8UM|          3|           27|         29|   N|                Y|\n",
            "|R1T9CO3FY8SF97|          5|           68|         69|   N|                N|\n",
            "|R1IYRC0QSYTU10|          4|           33|         33|   N|                Y|\n",
            "|R15XGJ5S6XZQOW|          4|           20|         20|   N|                Y|\n",
            "|R1638RNS2ZGMD2|          3|           22|         25|   N|                Y|\n",
            "|R12FQ3TERCVNXP|          1|           18|         20|   N|                Y|\n",
            "| REEHTDQZKAAIR|          1|          105|        113|   N|                Y|\n",
            "|R328D7QB3QJH0E|          3|           96|        102|   N|                Y|\n",
            "| RWUW2XM5Z5H9Y|          5|           18|         20|   N|                N|\n",
            "|R23W0TU0NXSC0K|          5|           24|         24|   N|                Y|\n",
            "| RDM3B1TRM6P67|          4|          115|        115|   N|                Y|\n",
            "|R1IGB7ANXN55U9|          4|           63|         68|   N|                N|\n",
            "|R1YP2N2REHAJA6|          5|           34|         34|   N|                Y|\n",
            "|R23P37CEZMFICT|          5|           24|         26|   N|                N|\n",
            "|R1OIALTH6AGP51|          5|          121|        121|   N|                Y|\n",
            "|R36D6AJTR06SET|          5|          107|        112|   N|                Y|\n",
            "|R3R3ESIAESU7BD|          2|           18|         20|   N|                Y|\n",
            "|R36KWO6FO5TJNS|          1|           15|         21|   N|                Y|\n",
            "|R2978K3AG1QJBA|          1|           20|         20|   N|                Y|\n",
            "|R3JYQAH2DWECPJ|          5|           22|         22|   N|                Y|\n",
            "|R2HZ9XP6ZT9456|          5|           22|         23|   N|                Y|\n",
            "|R2WIQKA8AALP5O|          1|           37|         45|   N|                N|\n",
            "|R3AZIF6U4TMRBD|          4|           23|         23|   N|                N|\n",
            "|R193268E8C39PF|          5|           23|         23|   N|                Y|\n",
            "| REGYKNLLG4Y3Q|          4|           21|         24|   N|                Y|\n",
            "|R3IDYWA19AA7AF|          5|           71|         73|   N|                Y|\n",
            "|R10C8ZU72LQFO6|          5|           32|         34|   N|                Y|\n",
            "|R1U30MG655WL50|          5|           43|         49|   N|                Y|\n",
            "|R39B9TQ9KEMYBP|          5|           19|         22|   N|                Y|\n",
            "| RZYEZXY0QZ6JP|          5|           20|         20|   N|                Y|\n",
            "|R3HU3CVFQBQBJX|          5|           37|         37|   N|                Y|\n",
            "|R2IBZ2WXTWAOD5|          1|           60|         63|   N|                Y|\n",
            "|R2VS3IPXOG1PT4|          4|           38|         38|   N|                Y|\n",
            "|R3VV5SUHNMAMHH|          5|           28|         28|   N|                Y|\n",
            "| RWRP8FOMCXNXV|          3|           49|         50|   N|                Y|\n",
            "|R320HZZSHFEMT5|          2|           22|         24|   N|                Y|\n",
            "|R3FAXO7JKW3G97|          2|           50|         53|   N|                Y|\n",
            "|R1J6ZR57XNB405|          4|           30|         32|   N|                Y|\n",
            "| RNBT4DQX0WHI8|          5|           62|         62|   N|                Y|\n",
            "| RFO47EUA8VO07|          1|          153|        165|   N|                Y|\n",
            "| RQGV5SMTRAXI3|          5|           27|         27|   N|                Y|\n",
            "|R2JZO2R4VVBZDW|          5|           49|         50|   N|                Y|\n",
            "|R2JWXZ4KU8L5P0|          1|           25|         25|   N|                Y|\n",
            "|R2S66ILV39NLDI|          5|           19|         22|   N|                Y|\n",
            "|R3ESZI4UG0RXD3|          5|           43|         47|   N|                N|\n",
            "+--------------+-----------+-------------+-----------+----+-----------------+\n",
            "only showing top 100 rows\n",
            "\n"
          ]
        }
      ]
    },
    {
      "cell_type": "code",
      "source": [
        "# Filter the DataFrame to retrieve the rows where the review was part of the Vine Program (vine == 'Y')\n",
        "vine_program_df = helpful_votes_df.filter(helpful_votes_df[\"vine\"]=='Y')\n",
        "vine_program_df.show(25)"
      ],
      "metadata": {
        "colab": {
          "base_uri": "https://localhost:8080/"
        },
        "id": "IehKDvfBEGYz",
        "outputId": "f2d6b51f-f5fb-4246-bf96-9daba8cc378a"
      },
      "execution_count": null,
      "outputs": [
        {
          "output_type": "stream",
          "name": "stdout",
          "text": [
            "+--------------+-----------+-------------+-----------+----+-----------------+\n",
            "|     review_id|star_rating|helpful_votes|total_votes|vine|verified_purchase|\n",
            "+--------------+-----------+-------------+-----------+----+-----------------+\n",
            "|R2N45ZKRRZS856|          5|           21|         22|   Y|                N|\n",
            "| R5OMLMK13A8NS|          5|           34|         38|   Y|                N|\n",
            "|R2MPEQ4SPTEQNS|          4|          180|        184|   Y|                N|\n",
            "| RIR0D3KJ0CQ31|          4|           21|         21|   Y|                N|\n",
            "|R1SPWJDHUWWC5E|          5|           88|         98|   Y|                N|\n",
            "|R1X6M5XA3FT98W|          5|           24|         26|   Y|                N|\n",
            "|R37VCW6HA0Z72T|          5|           27|         28|   Y|                N|\n",
            "|R2XRYNV2SY3ZKL|          5|           53|         56|   Y|                N|\n",
            "|R1Y93KWKAX1P5N|          2|           26|         31|   Y|                N|\n",
            "|R2QVTDYYLTP8SL|          5|           21|         24|   Y|                N|\n",
            "|R3KOK2SH39BZU1|          3|           94|         96|   Y|                N|\n",
            "|R2VOM73EHLPXJW|          4|           35|         38|   Y|                N|\n",
            "|R3SEZS7BZEC69Y|          5|           16|         20|   Y|                N|\n",
            "|R1MJ5J272V19O6|          4|           49|         51|   Y|                N|\n",
            "|R3A7BQX1JDKOM5|          4|           20|         20|   Y|                N|\n",
            "|R1307JMPUEQXOW|          5|           31|         35|   Y|                N|\n",
            "| RXV0SDXE5B15T|          2|           39|         42|   Y|                N|\n",
            "| RBMDYE7LUH9FI|          5|           26|         32|   Y|                N|\n",
            "|R1N4W961QV59BV|          5|           25|         34|   Y|                N|\n",
            "|R11XKHFS4KQS3Z|          4|          205|        211|   Y|                N|\n",
            "|R2AT1A0VUSY955|          5|           22|         24|   Y|                N|\n",
            "| RMFBF4KEBW9RK|          5|           37|         43|   Y|                N|\n",
            "+--------------+-----------+-------------+-----------+----+-----------------+\n",
            "\n"
          ]
        }
      ]
    },
    {
      "cell_type": "code",
      "source": [
        "# Filter the DataFrame to retrieve the rows where the review was NOT part of the Vine Program, vine == 'N'\n",
        "vine_noprogram_df = helpful_votes_df.filter(helpful_votes_df[\"vine\"]=='N')\n",
        "vine_noprogram_df.show()"
      ],
      "metadata": {
        "id": "2gaYsKLzzjEa",
        "colab": {
          "base_uri": "https://localhost:8080/"
        },
        "outputId": "8a15ffdc-dc28-4430-ba14-749d9c09716a"
      },
      "execution_count": null,
      "outputs": [
        {
          "output_type": "stream",
          "name": "stdout",
          "text": [
            "+--------------+-----------+-------------+-----------+----+-----------------+\n",
            "|     review_id|star_rating|helpful_votes|total_votes|vine|verified_purchase|\n",
            "+--------------+-----------+-------------+-----------+----+-----------------+\n",
            "|R37F42INKX7L9K|          5|           45|         49|   N|                Y|\n",
            "|R2EHKYNEP8WVSR|          5|           25|         25|   N|                Y|\n",
            "| RXOS7BHID0UHL|          5|           16|         27|   N|                N|\n",
            "|R33HHGFPB403GM|          5|           19|         21|   N|                Y|\n",
            "| RY9O9XNLP464N|          2|           19|         22|   N|                Y|\n",
            "|R2VP11C28JAEZF|          5|           30|         30|   N|                Y|\n",
            "|R1TXGR1HA2M3P3|          5|           28|         29|   N|                Y|\n",
            "| R6OD85TMEMHQQ|          5|           28|         28|   N|                Y|\n",
            "|R1G4PAJXP3FTN7|          2|           43|         51|   N|                Y|\n",
            "|R2P2S8UGUMCOLX|          5|           21|         22|   N|                Y|\n",
            "| RBTQKXGJ9RP7C|          1|           33|         33|   N|                Y|\n",
            "|R342L93CXGDZO5|          2|           73|         76|   N|                Y|\n",
            "|R31Z97KFD4HMNF|          3|           23|         26|   N|                Y|\n",
            "|R2NDB7EQLYK87A|          5|           44|         46|   N|                Y|\n",
            "|R1C0W0OSBCVXC2|          1|           45|         46|   N|                Y|\n",
            "|R154Q41ID7FTFC|          5|           24|         26|   N|                Y|\n",
            "|R3GFX9ZNZ0T3TA|          1|           35|         35|   N|                Y|\n",
            "|R2H8MH0N2IZKMY|          5|           22|         23|   N|                Y|\n",
            "|R1MYE8WQ3812L8|          5|           17|         20|   N|                Y|\n",
            "| RYSL8MU2858GB|          5|           71|         73|   N|                Y|\n",
            "+--------------+-----------+-------------+-----------+----+-----------------+\n",
            "only showing top 20 rows\n",
            "\n"
          ]
        }
      ]
    },
    {
      "cell_type": "code",
      "source": [
        "# Total Number of reviews\n",
        "filtered_vine_df.count()"
      ],
      "metadata": {
        "id": "8Ak9OVpnzjpx",
        "colab": {
          "base_uri": "https://localhost:8080/"
        },
        "outputId": "76c3c95f-e162-4ab3-de40-57f0ad9beb83"
      },
      "execution_count": null,
      "outputs": [
        {
          "output_type": "execute_result",
          "data": {
            "text/plain": [
              "4366916"
            ]
          },
          "metadata": {},
          "execution_count": 29
        }
      ]
    },
    {
      "cell_type": "code",
      "source": [
        "# Calculate the total number of 5-star reviews\n",
        "top_vine_df = filtered_vine_df.filter(filtered_vine_df[\"star_rating\"]==5)\n",
        "top_vine_df.count()"
      ],
      "metadata": {
        "id": "YQNBBWeKzj7R",
        "colab": {
          "base_uri": "https://localhost:8080/"
        },
        "outputId": "9d78b7ff-8944-431c-a9e4-c7f8fa2c22a2"
      },
      "execution_count": null,
      "outputs": [
        {
          "output_type": "execute_result",
          "data": {
            "text/plain": [
              "2639935"
            ]
          },
          "metadata": {},
          "execution_count": 45
        }
      ]
    },
    {
      "cell_type": "code",
      "source": [
        "# Calculate the percentage of 5-star reviews for the paid reviews\n",
        "# First calculate the total paid reviews\n",
        "total_paid_reviews= vine_program_df.count()\n",
        "total_paid_reviews"
      ],
      "metadata": {
        "colab": {
          "base_uri": "https://localhost:8080/"
        },
        "id": "-AweMr-ZDMVg",
        "outputId": "0a61f040-ae8b-411e-e9cb-2e8fb6e1de05"
      },
      "execution_count": null,
      "outputs": [
        {
          "output_type": "execute_result",
          "data": {
            "text/plain": [
              "22"
            ]
          },
          "metadata": {},
          "execution_count": 46
        }
      ]
    },
    {
      "cell_type": "code",
      "source": [
        "# Then calculate the total 5 star ratings for the paid reviews\n",
        "paid_5star_reviews = vine_program_df.filter(vine_program_df[\"star_rating\"]==5).count()\n",
        "paid_5star_reviews"
      ],
      "metadata": {
        "colab": {
          "base_uri": "https://localhost:8080/"
        },
        "id": "Y4I1HnOBQtM6",
        "outputId": "d379707e-d585-4643-a932-bc02ea4773bf"
      },
      "execution_count": null,
      "outputs": [
        {
          "output_type": "execute_result",
          "data": {
            "text/plain": [
              "13"
            ]
          },
          "metadata": {},
          "execution_count": 49
        }
      ]
    },
    {
      "cell_type": "code",
      "source": [
        "# Then calculate the percentatge of 5 star ratings for the paid reviews\n",
        "paid_5star_reviews_percent = (paid_5star_reviews / total_paid_reviews) *100\n",
        "paid_5star_reviews_percent"
      ],
      "metadata": {
        "colab": {
          "base_uri": "https://localhost:8080/"
        },
        "id": "mVuCFisyRQ0k",
        "outputId": "3f893e61-f2dd-4b31-8b52-d321629d804a"
      },
      "execution_count": null,
      "outputs": [
        {
          "output_type": "execute_result",
          "data": {
            "text/plain": [
              "59.09090909090909"
            ]
          },
          "metadata": {},
          "execution_count": 50
        }
      ]
    },
    {
      "cell_type": "code",
      "source": [
        "# Calculate the percenetage of 5 star reviews for the unpaid reviews\n",
        "# First calculate the total unpaid reviews\n",
        "total_unpaid_reviews= vine_noprogram_df.count()\n",
        "total_unpaid_reviews"
      ],
      "metadata": {
        "colab": {
          "base_uri": "https://localhost:8080/"
        },
        "id": "iYKRdA8UPODm",
        "outputId": "cddddc37-43ad-44a4-c422-80f768f00855"
      },
      "execution_count": null,
      "outputs": [
        {
          "output_type": "execute_result",
          "data": {
            "text/plain": [
              "26987"
            ]
          },
          "metadata": {},
          "execution_count": 56
        }
      ]
    },
    {
      "cell_type": "code",
      "source": [
        "# Then calculate the total 5 star ratings for the paid reviews\n",
        "unpaid_5star_reviews = vine_noprogram_df.filter(vine_noprogram_df[\"star_rating\"] ==5).count()\n",
        "unpaid_5star_reviews"
      ],
      "metadata": {
        "colab": {
          "base_uri": "https://localhost:8080/"
        },
        "id": "tH_mFgn1UI1p",
        "outputId": "6ef16783-f324-4c2d-91f2-36a38de5499d"
      },
      "execution_count": null,
      "outputs": [
        {
          "output_type": "execute_result",
          "data": {
            "text/plain": [
              "14475"
            ]
          },
          "metadata": {},
          "execution_count": 54
        }
      ]
    },
    {
      "cell_type": "code",
      "source": [
        "# Then calculate the percentatge of 5 star ratings for the unpaid reviews\n",
        "unpaid_5star_reviews_percent = (unpaid_5star_reviews / total_unpaid_reviews) *100\n",
        "unpaid_5star_reviews_percent"
      ],
      "metadata": {
        "id": "163TWQZNUJFG",
        "colab": {
          "base_uri": "https://localhost:8080/"
        },
        "outputId": "25c0a984-d93c-4ef7-f961-03e25816c69c"
      },
      "execution_count": null,
      "outputs": [
        {
          "output_type": "execute_result",
          "data": {
            "text/plain": [
              "53.63693630266425"
            ]
          },
          "metadata": {},
          "execution_count": 57
        }
      ]
    },
    {
      "cell_type": "code",
      "source": [
        ""
      ],
      "metadata": {
        "id": "-bKT5bQIUJTo"
      },
      "execution_count": null,
      "outputs": []
    }
  ]
}